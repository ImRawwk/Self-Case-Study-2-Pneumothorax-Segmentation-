{
 "cells": [
  {
   "cell_type": "code",
   "execution_count": 1,
   "metadata": {
    "_cell_guid": "b1076dfc-b9ad-4769-8c92-a6c4dae69d19",
    "_uuid": "8f2839f25d086af736a60e9eeb907d3b93b6e0e5",
    "execution": {
     "iopub.execute_input": "2020-08-13T16:22:18.093712Z",
     "iopub.status.busy": "2020-08-13T16:22:18.092784Z",
     "iopub.status.idle": "2020-08-13T16:22:18.102304Z",
     "shell.execute_reply": "2020-08-13T16:22:18.101309Z"
    },
    "papermill": {
     "duration": 0.027433,
     "end_time": "2020-08-13T16:22:18.102526",
     "exception": false,
     "start_time": "2020-08-13T16:22:18.075093",
     "status": "completed"
    },
    "tags": []
   },
   "outputs": [
    {
     "name": "stdout",
     "output_type": "stream",
     "text": [
      "/kaggle/input/rlefile/stage_2_train.csv\n",
      "/kaggle/input/rlefiles/train-rle.csv\n"
     ]
    }
   ],
   "source": [
    "# This Python 3 environment comes with many helpful analytics libraries installed\n",
    "# It is defined by the kaggle/python Docker image: https://github.com/kaggle/docker-python\n",
    "# For example, here's several helpful packages to load\n",
    "\n",
    "import numpy as np # linear algebra\n",
    "import pandas as pd # data processing, CSV file I/O (e.g. pd.read_csv)\n",
    "\n",
    "# Input data files are available in the read-only \"../input/\" directory\n",
    "# For example, running this (by clicking run or pressing Shift+Enter) will list all files under the input directory\n",
    "\n",
    "import os\n",
    "for dirname, _, filenames in os.walk('/kaggle/input'):\n",
    "    for filename in filenames:\n",
    "        print(os.path.join(dirname, filename))\n",
    "\n",
    "# You can write up to 5GB to the current directory (/kaggle/working/) that gets preserved as output when you create a version using \"Save & Run All\" \n",
    "# You can also write temporary files to /kaggle/temp/, but they won't be saved outside of the current session"
   ]
  },
  {
   "cell_type": "code",
   "execution_count": 2,
   "metadata": {
    "_cell_guid": "79c7e3d0-c299-4dcb-8224-4455121ee9b0",
    "_uuid": "d629ff2d2480ee46fbb7e2d37f6b5fab8052498a",
    "execution": {
     "iopub.execute_input": "2020-08-13T16:22:18.129431Z",
     "iopub.status.busy": "2020-08-13T16:22:18.128502Z",
     "iopub.status.idle": "2020-08-13T16:22:19.009611Z",
     "shell.execute_reply": "2020-08-13T16:22:19.008902Z"
    },
    "papermill": {
     "duration": 0.897187,
     "end_time": "2020-08-13T16:22:19.009782",
     "exception": false,
     "start_time": "2020-08-13T16:22:18.112595",
     "status": "completed"
    },
    "tags": []
   },
   "outputs": [],
   "source": [
    "import os\n",
    "import cv2\n",
    "import glob2\n",
    "import pydicom\n",
    "from tqdm import tqdm_notebook as tqdm\n",
    "import zipfile\n",
    "import io\n",
    "import pandas as pd\n",
    "import numpy as np\n",
    "from PIL import Image\n",
    "import matplotlib.pyplot as plt\n",
    "from skimage import exposure\n",
    "import sys"
   ]
  },
  {
   "cell_type": "code",
   "execution_count": 3,
   "metadata": {
    "execution": {
     "iopub.execute_input": "2020-08-13T16:22:19.038760Z",
     "iopub.status.busy": "2020-08-13T16:22:19.037866Z",
     "iopub.status.idle": "2020-08-13T16:22:19.145277Z",
     "shell.execute_reply": "2020-08-13T16:22:19.144585Z"
    },
    "papermill": {
     "duration": 0.126021,
     "end_time": "2020-08-13T16:22:19.145427",
     "exception": false,
     "start_time": "2020-08-13T16:22:19.019406",
     "status": "completed"
    },
    "tags": []
   },
   "outputs": [],
   "source": [
    "sz = 512\n",
    "sz0 = 1024\n",
    "mask_out = 'masks.zip'\n",
    "df = pd.read_csv('../input/rlefile/stage_2_train.csv').set_index('ImageId')"
   ]
  },
  {
   "cell_type": "code",
   "execution_count": 4,
   "metadata": {
    "execution": {
     "iopub.execute_input": "2020-08-13T16:22:19.174608Z",
     "iopub.status.busy": "2020-08-13T16:22:19.173553Z",
     "iopub.status.idle": "2020-08-13T16:22:19.177142Z",
     "shell.execute_reply": "2020-08-13T16:22:19.176316Z"
    },
    "papermill": {
     "duration": 0.021968,
     "end_time": "2020-08-13T16:22:19.177288",
     "exception": false,
     "start_time": "2020-08-13T16:22:19.155320",
     "status": "completed"
    },
    "tags": []
   },
   "outputs": [],
   "source": [
    "idxs = set(df.index)"
   ]
  },
  {
   "cell_type": "code",
   "execution_count": 5,
   "metadata": {
    "execution": {
     "iopub.execute_input": "2020-08-13T16:22:19.205455Z",
     "iopub.status.busy": "2020-08-13T16:22:19.204542Z",
     "iopub.status.idle": "2020-08-13T16:22:19.209635Z",
     "shell.execute_reply": "2020-08-13T16:22:19.209029Z"
    },
    "papermill": {
     "duration": 0.022645,
     "end_time": "2020-08-13T16:22:19.209791",
     "exception": false,
     "start_time": "2020-08-13T16:22:19.187146",
     "status": "completed"
    },
    "tags": []
   },
   "outputs": [
    {
     "data": {
      "text/plain": [
       "(12954, 2)"
      ]
     },
     "execution_count": 5,
     "metadata": {},
     "output_type": "execute_result"
    }
   ],
   "source": [
    "df.shape"
   ]
  },
  {
   "cell_type": "code",
   "execution_count": 6,
   "metadata": {
    "execution": {
     "iopub.execute_input": "2020-08-13T16:22:19.240801Z",
     "iopub.status.busy": "2020-08-13T16:22:19.239793Z",
     "iopub.status.idle": "2020-08-13T16:22:19.244798Z",
     "shell.execute_reply": "2020-08-13T16:22:19.244024Z"
    },
    "papermill": {
     "duration": 0.024783,
     "end_time": "2020-08-13T16:22:19.244930",
     "exception": false,
     "start_time": "2020-08-13T16:22:19.220147",
     "status": "completed"
    },
    "tags": []
   },
   "outputs": [],
   "source": [
    "def rle2mask(rle, width = 512, height = 512):\n",
    "    mask= np.zeros(width* height)\n",
    "    array = np.asarray([int(x) for x in rle.split()])\n",
    "    starts = array[0::2]\n",
    "    lengths = array[1::2]\n",
    "\n",
    "    current_position = 0\n",
    "    for index, start in enumerate(starts):\n",
    "        current_position += start\n",
    "        mask[current_position:current_position+lengths[index]] = 1\n",
    "        current_position += lengths[index]\n",
    "\n",
    "    return mask.reshape(width, height)"
   ]
  },
  {
   "cell_type": "code",
   "execution_count": 7,
   "metadata": {
    "execution": {
     "iopub.execute_input": "2020-08-13T16:22:19.283126Z",
     "iopub.status.busy": "2020-08-13T16:22:19.282306Z",
     "iopub.status.idle": "2020-08-13T16:24:06.541187Z",
     "shell.execute_reply": "2020-08-13T16:24:06.541817Z"
    },
    "papermill": {
     "duration": 107.285687,
     "end_time": "2020-08-13T16:24:06.542176",
     "exception": false,
     "start_time": "2020-08-13T16:22:19.256489",
     "status": "completed"
    },
    "tags": []
   },
   "outputs": [
    {
     "name": "stderr",
     "output_type": "stream",
     "text": [
      "/opt/conda/lib/python3.7/site-packages/ipykernel_launcher.py:5: TqdmDeprecationWarning: This function will be removed in tqdm==5.0.0\n",
      "Please use `tqdm.notebook.tqdm` instead of `tqdm.tqdm_notebook`\n",
      "  \"\"\"\n"
     ]
    },
    {
     "data": {
      "application/vnd.jupyter.widget-view+json": {
       "model_id": "2a8d1c76df1e4e2ba73314d2d8f24332",
       "version_major": 2,
       "version_minor": 0
      },
      "text/plain": [
       "HBox(children=(FloatProgress(value=0.0, max=12047.0), HTML(value='')))"
      ]
     },
     "metadata": {},
     "output_type": "display_data"
    },
    {
     "name": "stdout",
     "output_type": "stream",
     "text": [
      "\n",
      "mask coverage: 1.2333862171470468e-05 , mask count: 2669 , mask count tot: 3576\n"
     ]
    }
   ],
   "source": [
    "mask_coverage = []\n",
    "mask_count = 0\n",
    "mask_count_tot = 0\n",
    "with zipfile.ZipFile(mask_out, 'w') as arch:\n",
    "    for idx in tqdm(idxs):\n",
    "        masks = df.loc[idx,'EncodedPixels']\n",
    "        img = np.zeros((sz0,sz0))\n",
    "        #do conversion if mask is not \" -1\"\n",
    "        if(type(masks) != str or (type(masks) == str and masks != '-1')):\n",
    "            if(type(masks) == str): masks = [masks]\n",
    "            else: masks = masks.tolist()\n",
    "            mask_count +=1\n",
    "            for mask in masks:\n",
    "                mask_count_tot += 1\n",
    "                img += rle2mask(mask, sz0, sz0).T\n",
    "        mask_coverage.append(img.mean())\n",
    "        img = cv2.resize(img, (sz, sz))\n",
    "        output = cv2.imencode('.png',img)[1]\n",
    "        name = idx + '.png'\n",
    "        arch.writestr(name, output)\n",
    "\n",
    "print('mask coverage:', np.mean(mask_coverage)/255, ', mask count:', mask_count,\n",
    "      ', mask count tot:', mask_count_tot)"
   ]
  },
  {
   "cell_type": "code",
   "execution_count": 8,
   "metadata": {
    "execution": {
     "iopub.execute_input": "2020-08-13T16:24:06.576839Z",
     "iopub.status.busy": "2020-08-13T16:24:06.575991Z",
     "iopub.status.idle": "2020-08-13T16:24:07.027026Z",
     "shell.execute_reply": "2020-08-13T16:24:07.026365Z"
    },
    "papermill": {
     "duration": 0.472932,
     "end_time": "2020-08-13T16:24:07.027183",
     "exception": false,
     "start_time": "2020-08-13T16:24:06.554251",
     "status": "completed"
    },
    "tags": []
   },
   "outputs": [
    {
     "data": {
      "image/png": "[encoded data removed]",
      "text/plain": [
       "<Figure size 432x288 with 1 Axes>"
      ]
     },
     "metadata": {
      "needs_background": "light"
     },
     "output_type": "display_data"
    }
   ],
   "source": [
    "idx = 736\n",
    "with zipfile.ZipFile(mask_out, 'r') as arch:\n",
    "    fname = sorted(arch.namelist())[idx]\n",
    "    flags = cv2.IMREAD_GRAYSCALE\n",
    "    mask = cv2.imdecode(np.frombuffer(arch.read(fname), np.uint8), flags)\n",
    "    \n",
    "plt.figure()\n",
    "plt.imshow(Image.fromarray(img))\n",
    "plt.imshow(Image.fromarray(mask), alpha=0.2)\n",
    "plt.show()"
   ]
  },
  {
   "cell_type": "code",
   "execution_count": null,
   "metadata": {
    "papermill": {
     "duration": 0.01581,
     "end_time": "2020-08-13T16:24:07.056047",
     "exception": false,
     "start_time": "2020-08-13T16:24:07.040237",
     "status": "completed"
    },
    "tags": []
   },
   "outputs": [],
   "source": []
  }
 ],
 "metadata": {
  "kernelspec": {
   "display_name": "Python 3",
   "language": "python",
   "name": "python3"
  },
  "language_info": {
   "codemirror_mode": {
    "name": "ipython",
    "version": 3
   },
   "file_extension": ".py",
   "mimetype": "text/x-python",
   "name": "python",
   "nbconvert_exporter": "python",
   "pygments_lexer": "ipython3",
   "version": "3.7.6"
  },
  "papermill": {
   "duration": 114.25965,
   "end_time": "2020-08-13T16:24:07.179010",
   "environment_variables": {},
   "exception": null,
   "input_path": "__notebook__.ipynb",
   "output_path": "__notebook__.ipynb",
   "parameters": {},
   "start_time": "2020-08-13T16:22:12.919360",
   "version": "2.1.0"
  },
  "widgets": {
   "application/vnd.jupyter.widget-state+json": {
    "state": {
     "21b8143ebf3042ffb6f3952d958ac72d": {
      "model_module": "@jupyter-widgets/base",
      "model_module_version": "1.2.0",
      "model_name": "LayoutModel",
      "state": {
       "_model_module": "@jupyter-widgets/base",
       "_model_module_version": "1.2.0",
       "_model_name": "LayoutModel",
       "_view_count": null,
       "_view_module": "@jupyter-widgets/base",
       "_view_module_version": "1.2.0",
       "_view_name": "LayoutView",
       "align_content": null,
       "align_items": null,
       "align_self": null,
       "border": null,
       "bottom": null,
       "display": null,
       "flex": null,
       "flex_flow": null,
       "grid_area": null,
       "grid_auto_columns": null,
       "grid_auto_flow": null,
       "grid_auto_rows": null,
       "grid_column": null,
       "grid_gap": null,
       "grid_row": null,
       "grid_template_areas": null,
       "grid_template_columns": null,
       "grid_template_rows": null,
       "height": null,
       "justify_content": null,
       "justify_items": null,
       "left": null,
       "margin": null,
       "max_height": null,
       "max_width": null,
       "min_height": null,
       "min_width": null,
       "object_fit": null,
       "object_position": null,
       "order": null,
       "overflow": null,
       "overflow_x": null,
       "overflow_y": null,
       "padding": null,
       "right": null,
       "top": null,
       "visibility": null,
       "width": null
      }
     },
     "23dfd035fd18457aaf40c8edabee09db": {
      "model_module": "@jupyter-widgets/base",
      "model_module_version": "1.2.0",
      "model_name": "LayoutModel",
      "state": {
       "_model_module": "@jupyter-widgets/base",
       "_model_module_version": "1.2.0",
       "_model_name": "LayoutModel",
       "_view_count": null,
       "_view_module": "@jupyter-widgets/base",
       "_view_module_version": "1.2.0",
       "_view_name": "LayoutView",
       "align_content": null,
       "align_items": null,
       "align_self": null,
       "border": null,
       "bottom": null,
       "display": null,
       "flex": null,
       "flex_flow": null,
       "grid_area": null,
       "grid_auto_columns": null,
       "grid_auto_flow": null,
       "grid_auto_rows": null,
       "grid_column": null,
       "grid_gap": null,
       "grid_row": null,
       "grid_template_areas": null,
       "grid_template_columns": null,
       "grid_template_rows": null,
       "height": null,
       "justify_content": null,
       "justify_items": null,
       "left": null,
       "margin": null,
       "max_height": null,
       "max_width": null,
       "min_height": null,
       "min_width": null,
       "object_fit": null,
       "object_position": null,
       "order": null,
       "overflow": null,
       "overflow_x": null,
       "overflow_y": null,
       "padding": null,
       "right": null,
       "top": null,
       "visibility": null,
       "width": null
      }
     },
     "2a8d1c76df1e4e2ba73314d2d8f24332": {
      "model_module": "@jupyter-widgets/controls",
      "model_module_version": "1.5.0",
      "model_name": "HBoxModel",
      "state": {
       "_dom_classes": [],
       "_model_module": "@jupyter-widgets/controls",
       "_model_module_version": "1.5.0",
       "_model_name": "HBoxModel",
       "_view_count": null,
       "_view_module": "@jupyter-widgets/controls",
       "_view_module_version": "1.5.0",
       "_view_name": "HBoxView",
       "box_style": "",
       "children": [
        "IPY_MODEL_c4bb6090bb36414ea5e4a33c0de60811",
        "IPY_MODEL_3353530fc16e4b218717d7f5d50345ba"
       ],
       "layout": "IPY_MODEL_d57fa72f0b5e4cecb92b19edfeeb372b"
      }
     },
     "3353530fc16e4b218717d7f5d50345ba": {
      "model_module": "@jupyter-widgets/controls",
      "model_module_version": "1.5.0",
      "model_name": "HTMLModel",
      "state": {
       "_dom_classes": [],
       "_model_module": "@jupyter-widgets/controls",
       "_model_module_version": "1.5.0",
       "_model_name": "HTMLModel",
       "_view_count": null,
       "_view_module": "@jupyter-widgets/controls",
       "_view_module_version": "1.5.0",
       "_view_name": "HTMLView",
       "description": "",
       "description_tooltip": null,
       "layout": "IPY_MODEL_21b8143ebf3042ffb6f3952d958ac72d",
       "placeholder": "​",
       "style": "IPY_MODEL_9f94fc85cee441fa9b07e304b08eac5e",
       "value": " 12047/12047 [01:47&lt;00:00, 112.43it/s]"
      }
     },
     "9f94fc85cee441fa9b07e304b08eac5e": {
      "model_module": "@jupyter-widgets/controls",
      "model_module_version": "1.5.0",
      "model_name": "DescriptionStyleModel",
      "state": {
       "_model_module": "@jupyter-widgets/controls",
       "_model_module_version": "1.5.0",
       "_model_name": "DescriptionStyleModel",
       "_view_count": null,
       "_view_module": "@jupyter-widgets/base",
       "_view_module_version": "1.2.0",
       "_view_name": "StyleView",
       "description_width": ""
      }
     },
     "c4bb6090bb36414ea5e4a33c0de60811": {
      "model_module": "@jupyter-widgets/controls",
      "model_module_version": "1.5.0",
      "model_name": "FloatProgressModel",
      "state": {
       "_dom_classes": [],
       "_model_module": "@jupyter-widgets/controls",
       "_model_module_version": "1.5.0",
       "_model_name": "FloatProgressModel",
       "_view_count": null,
       "_view_module": "@jupyter-widgets/controls",
       "_view_module_version": "1.5.0",
       "_view_name": "ProgressView",
       "bar_style": "success",
       "description": "100%",
       "description_tooltip": null,
       "layout": "IPY_MODEL_23dfd035fd18457aaf40c8edabee09db",
       "max": 12047.0,
       "min": 0.0,
       "orientation": "horizontal",
       "style": "IPY_MODEL_e0bf77f89415470386f81f938df1e7bc",
       "value": 12047.0
      }
     },
     "d57fa72f0b5e4cecb92b19edfeeb372b": {
      "model_module": "@jupyter-widgets/base",
      "model_module_version": "1.2.0",
      "model_name": "LayoutModel",
      "state": {
       "_model_module": "@jupyter-widgets/base",
       "_model_module_version": "1.2.0",
       "_model_name": "LayoutModel",
       "_view_count": null,
       "_view_module": "@jupyter-widgets/base",
       "_view_module_version": "1.2.0",
       "_view_name": "LayoutView",
       "align_content": null,
       "align_items": null,
       "align_self": null,
       "border": null,
       "bottom": null,
       "display": null,
       "flex": null,
       "flex_flow": null,
       "grid_area": null,
       "grid_auto_columns": null,
       "grid_auto_flow": null,
       "grid_auto_rows": null,
       "grid_column": null,
       "grid_gap": null,
       "grid_row": null,
       "grid_template_areas": null,
       "grid_template_columns": null,
       "grid_template_rows": null,
       "height": null,
       "justify_content": null,
       "justify_items": null,
       "left": null,
       "margin": null,
       "max_height": null,
       "max_width": null,
       "min_height": null,
       "min_width": null,
       "object_fit": null,
       "object_position": null,
       "order": null,
       "overflow": null,
       "overflow_x": null,
       "overflow_y": null,
       "padding": null,
       "right": null,
       "top": null,
       "visibility": null,
       "width": null
      }
     },
     "e0bf77f89415470386f81f938df1e7bc": {
      "model_module": "@jupyter-widgets/controls",
      "model_module_version": "1.5.0",
      "model_name": "ProgressStyleModel",
      "state": {
       "_model_module": "@jupyter-widgets/controls",
       "_model_module_version": "1.5.0",
       "_model_name": "ProgressStyleModel",
       "_view_count": null,
       "_view_module": "@jupyter-widgets/base",
       "_view_module_version": "1.2.0",
       "_view_name": "StyleView",
       "bar_color": null,
       "description_width": "initial"
      }
     }
    },
    "version_major": 2,
    "version_minor": 0
   }
  }
 },
 "nbformat": 4,
 "nbformat_minor": 4
}
